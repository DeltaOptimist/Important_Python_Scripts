{
  "nbformat": 4,
  "nbformat_minor": 0,
  "metadata": {
    "colab": {
      "name": "Converting Image to an Array.ipynb",
      "provenance": []
    },
    "kernelspec": {
      "name": "python3",
      "display_name": "Python 3"
    },
    "language_info": {
      "name": "python"
    }
  },
  "cells": [
    {
      "cell_type": "code",
      "metadata": {
        "colab": {
          "base_uri": "https://localhost:8080/"
        },
        "id": "ZFWIfuJm4f6s",
        "outputId": "b66be12f-9219-4b8a-e36c-8fc0c781e3e3"
      },
      "source": [
        "from keras.preprocessing.image import load_img\n",
        "from keras.preprocessing.image import img_to_array\n",
        "img = load_img(\"/content/DataScienecvsDataANalytics.png\")\n",
        "# converting it to array\n",
        "data = img_to_array(img)\n",
        "print(data)"
      ],
      "execution_count": 1,
      "outputs": [
        {
          "output_type": "stream",
          "name": "stdout",
          "text": [
            "[[[243. 188.  71.]\n",
            "  [243. 188.  71.]\n",
            "  [243. 188.  71.]\n",
            "  ...\n",
            "  [243. 188.  71.]\n",
            "  [243. 188.  71.]\n",
            "  [243. 188.  71.]]\n",
            "\n",
            " [[243. 188.  71.]\n",
            "  [243. 188.  71.]\n",
            "  [243. 188.  71.]\n",
            "  ...\n",
            "  [243. 188.  71.]\n",
            "  [243. 188.  71.]\n",
            "  [243. 188.  71.]]\n",
            "\n",
            " [[243. 188.  71.]\n",
            "  [243. 188.  71.]\n",
            "  [243. 188.  71.]\n",
            "  ...\n",
            "  [243. 188.  71.]\n",
            "  [243. 188.  71.]\n",
            "  [243. 188.  71.]]\n",
            "\n",
            " ...\n",
            "\n",
            " [[243. 188.  71.]\n",
            "  [243. 188.  71.]\n",
            "  [243. 188.  71.]\n",
            "  ...\n",
            "  [243. 188.  71.]\n",
            "  [243. 188.  71.]\n",
            "  [243. 188.  71.]]\n",
            "\n",
            " [[243. 188.  71.]\n",
            "  [243. 188.  71.]\n",
            "  [243. 188.  71.]\n",
            "  ...\n",
            "  [243. 188.  71.]\n",
            "  [243. 188.  71.]\n",
            "  [243. 188.  71.]]\n",
            "\n",
            " [[243. 188.  71.]\n",
            "  [243. 188.  71.]\n",
            "  [243. 188.  71.]\n",
            "  ...\n",
            "  [243. 188.  71.]\n",
            "  [243. 188.  71.]\n",
            "  [243. 188.  71.]]]\n"
          ]
        }
      ]
    },
    {
      "cell_type": "code",
      "metadata": {
        "id": "9oT6_8sU42lq"
      },
      "source": [
        ""
      ],
      "execution_count": null,
      "outputs": []
    }
  ]
}