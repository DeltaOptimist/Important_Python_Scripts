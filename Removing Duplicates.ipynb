{
 "cells": [
  {
   "cell_type": "markdown",
   "id": "ec7a7583",
   "metadata": {},
   "source": [
    "Suppose you have a list of names that contain duplicate names. In most problems, you should remove all duplicate names before taking any action. So here is a Python script that you can use in any list to remove duplicate values:"
   ]
  },
  {
   "cell_type": "code",
   "execution_count": 1,
   "id": "0e535baa",
   "metadata": {},
   "outputs": [],
   "source": [
    "def remove(items):\n",
    "    list_1 = []\n",
    "    for i in items:\n",
    "        if i not in list_1:\n",
    "            list_1.append(i)\n",
    "    return list_1"
   ]
  },
  {
   "cell_type": "code",
   "execution_count": 2,
   "id": "dd4c82ef",
   "metadata": {},
   "outputs": [],
   "source": [
    "name = [\"Madhav\", \"Anish\", \"Anshul\", \"Madhav\", \"Shera\"]"
   ]
  },
  {
   "cell_type": "code",
   "execution_count": 3,
   "id": "7ad72bc3",
   "metadata": {},
   "outputs": [
    {
     "name": "stdout",
     "output_type": "stream",
     "text": [
      "['Madhav', 'Anish', 'Anshul', 'Shera']\n"
     ]
    }
   ],
   "source": [
    "print(remove(name))"
   ]
  },
  {
   "cell_type": "code",
   "execution_count": null,
   "id": "d924afe8",
   "metadata": {},
   "outputs": [],
   "source": []
  }
 ],
 "metadata": {
  "kernelspec": {
   "display_name": "Python 3 (ipykernel)",
   "language": "python",
   "name": "python3"
  },
  "language_info": {
   "codemirror_mode": {
    "name": "ipython",
    "version": 3
   },
   "file_extension": ".py",
   "mimetype": "text/x-python",
   "name": "python",
   "nbconvert_exporter": "python",
   "pygments_lexer": "ipython3",
   "version": "3.9.7"
  }
 },
 "nbformat": 4,
 "nbformat_minor": 5
}
