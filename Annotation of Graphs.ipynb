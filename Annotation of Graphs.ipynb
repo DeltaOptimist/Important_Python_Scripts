{
 "cells": [
  {
   "cell_type": "markdown",
   "id": "8d29334f",
   "metadata": {},
   "source": [
    "When plotting data on charts, annotations help to get a better idea of the features to which the data points relate. \n",
    "\n",
    "So here is a simple example of how you can annotate a chart using Python:"
   ]
  },
  {
   "cell_type": "code",
   "execution_count": 1,
   "id": "d7caf7ff",
   "metadata": {},
   "outputs": [
    {
     "name": "stderr",
     "output_type": "stream",
     "text": [
      "Matplotlib is building the font cache; this may take a moment.\n"
     ]
    }
   ],
   "source": [
    "import matplotlib.pyplot as plt\n",
    "x = [3, 5, 7, 5, 4]\n",
    "y = [5, 3, 4, 5, 2]\n"
   ]
  },
  {
   "cell_type": "code",
   "execution_count": 4,
   "id": "e089a75c",
   "metadata": {},
   "outputs": [
    {
     "data": {
      "image/png": "[encoded data removed]",
      "text/plain": [
       "<Figure size 432x288 with 1 Axes>"
      ]
     },
     "metadata": {
      "needs_background": "light"
     },
     "output_type": "display_data"
    }
   ],
   "source": [
    "labels = [\"Jan\", \"Feb\", \"Mar\", \"April\", \"May\"]\n",
    "plt.scatter(x, y)\n",
    "\n",
    "for i, j in enumerate(labels):\n",
    "    plt.annotate(j, (x[i]+0.10, y[i]), fontsize=10)\n",
    "plt.show()\n"
   ]
  },
  {
   "cell_type": "code",
   "execution_count": null,
   "id": "c24859dd",
   "metadata": {},
   "outputs": [],
   "source": []
  },
  {
   "cell_type": "code",
   "execution_count": null,
   "id": "f5a9ddc0",
   "metadata": {},
   "outputs": [],
   "source": []
  }
 ],
 "metadata": {
  "kernelspec": {
   "display_name": "Python 3 (ipykernel)",
   "language": "python",
   "name": "python3"
  },
  "language_info": {
   "codemirror_mode": {
    "name": "ipython",
    "version": 3
   },
   "file_extension": ".py",
   "mimetype": "text/x-python",
   "name": "python",
   "nbconvert_exporter": "python",
   "pygments_lexer": "ipython3",
   "version": "3.9.7"
  }
 },
 "nbformat": 4,
 "nbformat_minor": 5
}
